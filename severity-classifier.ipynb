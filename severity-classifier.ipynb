{
 "cells": [
  {
   "cell_type": "markdown",
   "id": "429d7760",
   "metadata": {},
   "source": [
    "# Predicting Severity of Impact from Conflict Events in Kenya\n",
    "\n",
    "## Group_3: Capstone Project"
   ]
  },
  {
   "cell_type": "markdown",
   "id": "244c41b6",
   "metadata": {},
   "source": [
    "### Authors:\n",
    "    Endalkachew Dessalegne\n",
    "    James Gatonye\n",
    "    Danton Kipngen\n",
    "    Noel Seda\n",
    "    Zeena Karariu\n",
    "   "
   ]
  },
  {
   "cell_type": "markdown",
   "id": "328e5364",
   "metadata": {},
   "source": [
    "## 1. Project Overview"
   ]
  },
  {
   "cell_type": "markdown",
   "id": "ad525baf",
   "metadata": {},
   "source": [
    "## 1.1. Business Understanding \n",
    "### 1.1.1 Business Problem \n"
   ]
  },
  {
   "cell_type": "markdown",
   "id": "d93e36cf",
   "metadata": {},
   "source": [
    "In recent years, Kenya has experienced frequent demonstrations driven by political, social, and economic factors. These events often escalate rapidly and impact surrounding communities in varying degrees-from minimal disruption to full-blown humanitarian emergencies. Currently, decision-makers such as government agencies, humanitarian organizations, and peacekeeping forces lack effective real-time tools to predict how severe the consequences of such events might be. Without timely insight into the potential impact, it becomes difficult to coordinate an appropriate and rapid response.\n",
    "This project aims to build a predictive model that assesses the severity level of conflict events-categorized as low, moderate, high, or critical-to help stakeholders allocate emergency resources proportionally and respond faster to unfolding crises."
   ]
  },
  {
   "cell_type": "markdown",
   "id": "d2a2281c",
   "metadata": {},
   "source": [
    "### 1.1.2. Objectives"
   ]
  },
  {
   "cell_type": "code",
   "execution_count": null,
   "id": "20979349-b391-484c-930f-4583cb7eaacd",
   "metadata": {},
   "outputs": [],
   "source": []
  },
  {
   "cell_type": "markdown",
   "id": "e7cfe4d2",
   "metadata": {},
   "source": [
    "## 2. Data Understanding"
   ]
  },
  {
   "cell_type": "code",
   "execution_count": null,
   "id": "f3f20aae",
   "metadata": {},
   "outputs": [],
   "source": []
  },
  {
   "cell_type": "markdown",
   "id": "77990614-40d5-4095-8ce5-55202052165f",
   "metadata": {},
   "source": [
    "## 3. Exploratory Data Analysis"
   ]
  },
  {
   "cell_type": "code",
   "execution_count": null,
   "id": "6a0b0749-675f-4822-90d9-b6e154751b1f",
   "metadata": {},
   "outputs": [],
   "source": []
  },
  {
   "cell_type": "markdown",
   "id": "d7411a41",
   "metadata": {},
   "source": [
    "## 4.  Modeling "
   ]
  },
  {
   "cell_type": "code",
   "execution_count": null,
   "id": "78ed0c63-a8ce-48ba-8b00-52018ddc43b9",
   "metadata": {},
   "outputs": [],
   "source": []
  },
  {
   "cell_type": "markdown",
   "id": "ec507b55",
   "metadata": {},
   "source": [
    "## 5. Evaluation"
   ]
  },
  {
   "cell_type": "code",
   "execution_count": null,
   "id": "1ab0411c-7f92-4d6b-851a-e8ae1b3b2009",
   "metadata": {},
   "outputs": [],
   "source": []
  },
  {
   "cell_type": "markdown",
   "id": "3e06023d",
   "metadata": {},
   "source": [
    "## 6. Conclusions "
   ]
  },
  {
   "cell_type": "code",
   "execution_count": null,
   "id": "f9dfa1c1-fcaa-4c2c-9b91-7ca5c1417d7f",
   "metadata": {},
   "outputs": [],
   "source": []
  },
  {
   "cell_type": "markdown",
   "id": "c772d168",
   "metadata": {},
   "source": [
    "## 7. Recommendations \n"
   ]
  },
  {
   "cell_type": "code",
   "execution_count": null,
   "id": "3b917111-9947-4f01-8e0c-17ade0fc5541",
   "metadata": {},
   "outputs": [],
   "source": []
  }
 ],
 "metadata": {
  "kernelspec": {
   "display_name": "Python (learn-env)",
   "language": "python",
   "name": "learn-env"
  },
  "language_info": {
   "codemirror_mode": {
    "name": "ipython",
    "version": 3
   },
   "file_extension": ".py",
   "mimetype": "text/x-python",
   "name": "python",
   "nbconvert_exporter": "python",
   "pygments_lexer": "ipython3",
   "version": "3.8.5"
  }
 },
 "nbformat": 4,
 "nbformat_minor": 5
}
